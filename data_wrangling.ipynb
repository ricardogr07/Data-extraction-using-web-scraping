{
 "cells": [
  {
   "cell_type": "code",
   "execution_count": 1,
   "metadata": {},
   "outputs": [
    {
     "name": "stdout",
     "output_type": "stream",
     "text": [
      "Requirement already satisfied: pandas in c:\\users\\ricar\\appdata\\local\\programs\\python\\python312\\lib\\site-packages (2.2.0)\n",
      "Requirement already satisfied: numpy<2,>=1.26.0 in c:\\users\\ricar\\appdata\\local\\programs\\python\\python312\\lib\\site-packages (from pandas) (1.26.4)\n",
      "Requirement already satisfied: python-dateutil>=2.8.2 in c:\\users\\ricar\\appdata\\local\\programs\\python\\python312\\lib\\site-packages (from pandas) (2.8.2)\n",
      "Requirement already satisfied: pytz>=2020.1 in c:\\users\\ricar\\appdata\\local\\programs\\python\\python312\\lib\\site-packages (from pandas) (2024.1)\n",
      "Requirement already satisfied: tzdata>=2022.7 in c:\\users\\ricar\\appdata\\local\\programs\\python\\python312\\lib\\site-packages (from pandas) (2024.1)\n",
      "Requirement already satisfied: six>=1.5 in c:\\users\\ricar\\appdata\\local\\programs\\python\\python312\\lib\\site-packages (from python-dateutil>=2.8.2->pandas) (1.16.0)\n"
     ]
    }
   ],
   "source": [
    "!pip install pandas"
   ]
  },
  {
   "cell_type": "code",
   "execution_count": 2,
   "metadata": {},
   "outputs": [],
   "source": [
    "# Import relevant packages\n",
    "import pandas as pd"
   ]
  },
  {
   "cell_type": "code",
   "execution_count": 3,
   "metadata": {},
   "outputs": [],
   "source": [
    "file_name = \"LinkedIn_Jobs_Data_Scientist_Monterrey.csv\"\n",
    "df_jobs = pd.read_csv(file_name)"
   ]
  },
  {
   "cell_type": "code",
   "execution_count": 4,
   "metadata": {},
   "outputs": [
    {
     "name": "stdout",
     "output_type": "stream",
     "text": [
      "['Monterrey' 'San Pedro Garza García' 'San Nicolás de Los Garza'\n",
      " 'Centro de San Pedro Garza García' 'Garza García' 'Santa Catarina'\n",
      " 'Guadalupe' 'Villa de García' 'Monterrey Metropolitan Area'\n",
      " 'San Nicolás de los Garza']\n"
     ]
    }
   ],
   "source": [
    "df_jobs['Location'] = df_jobs['Location'].apply(lambda x: x.split(',')[0])\n",
    "unique_locations = df_jobs['Location'].unique()\n",
    "print(unique_locations)"
   ]
  },
  {
   "cell_type": "code",
   "execution_count": 5,
   "metadata": {},
   "outputs": [],
   "source": [
    "# Define a mapping for the location names\n",
    "location_mapping = {\n",
    "    'San Pedro Garza García': 'San Pedro',\n",
    "    'Centro de San Pedro Garza García': 'San Pedro',\n",
    "    'Monterrey Metropolitan Area': 'Monterrey',\n",
    "    'San Nicolás de los Garza': 'San Nicolás',\n",
    "    'San Nicolás de Los Garza': 'San Nicolás',\n",
    "    'Garza García': 'García',\n",
    "    'Santa Catarina': 'Santa Catarina',\n",
    "    'Guadalupe': 'Guadalupe',\n",
    "    'Villa de García': 'García',\n",
    "    'Polanco': 'Polanco'\n",
    "}\n",
    "# Function to rename locations based on the mapping\n",
    "def rename_location(location):\n",
    "    return location_mapping.get(location, location)"
   ]
  },
  {
   "cell_type": "code",
   "execution_count": 6,
   "metadata": {},
   "outputs": [
    {
     "name": "stdout",
     "output_type": "stream",
     "text": [
      "['Monterrey' 'San Pedro' 'San Nicolás' 'García' 'Santa Catarina'\n",
      " 'Guadalupe']\n"
     ]
    }
   ],
   "source": [
    "# Apply the function to the DataFrame\n",
    "df_jobs['Location'] = df_jobs['Location'].apply(rename_location)\n",
    "\n",
    "# Verify the result\n",
    "unique_locations = df_jobs['Location'].unique()\n",
    "print(unique_locations)"
   ]
  },
  {
   "cell_type": "code",
   "execution_count": 7,
   "metadata": {},
   "outputs": [],
   "source": [
    "filtered_location_list = ['Monterrey', 'San Pedro']\n",
    "df_jobs = df_jobs[df_jobs['Location'].isin(filtered_location_list)]"
   ]
  },
  {
   "cell_type": "code",
   "execution_count": 8,
   "metadata": {},
   "outputs": [],
   "source": [
    "def truncate_url(url):\n",
    "    parts = url.split('?position')\n",
    "    return parts[0]\n",
    "df_jobs['Url'] = df_jobs['Url'].apply(truncate_url)"
   ]
  },
  {
   "cell_type": "code",
   "execution_count": 9,
   "metadata": {},
   "outputs": [],
   "source": [
    "df_jobs = df_jobs.drop_duplicates(subset=['Location', 'Title', 'Company']).reset_index(drop=True)"
   ]
  },
  {
   "cell_type": "code",
   "execution_count": 10,
   "metadata": {},
   "outputs": [],
   "source": [
    "categories = {\n",
    "    'Data Engineering': ['Data Engineer', 'ETL', 'Data Platform', 'Data Pipeline', \n",
    "                         'Database Engineer', 'Big Data', 'Hadoop', 'Spark', \n",
    "                         'Databricks', 'Data Integration', 'Data Warehouse',\n",
    "                         'Data Monitoring', 'Data Governance and Management'],\n",
    "    \n",
    "    'Data Analysis': ['Data Analyst', 'Business Intelligence', 'BI', 'Data Visualization', \n",
    "                      'Data Reporting', 'SQL', 'Data Metrics', 'Analytics', 'Data Insights',\n",
    "                      'Analítica de Datos', 'Data Operations Analyst'],\n",
    "    \n",
    "    'Data Science': ['Data Scientist', 'Machine Learning', 'ML', 'Statistical Analysis', \n",
    "                     'Predictive Modeling', 'Data Modeling', 'Deep Learning', \n",
    "                     'Algorithm', 'Statistical', 'Data Science Analyst'],\n",
    "    \n",
    "    'AI/ML': ['AI', 'Artificial Intelligence', 'Machine Learning', 'ML', 'Neural Networks', \n",
    "              'Deep Learning', 'AI Engineer', 'AI/ML Engineer', 'MLOps', 'Model Training',\n",
    "              'IA'],\n",
    "    \n",
    "    'Software Engineering': ['Software Engineer', 'Developer', 'Backend Developer', \n",
    "                              'Frontend Developer', 'Fullstack Developer', 'Software Development', \n",
    "                              'Programming', 'App Developer', 'Application Developer', \n",
    "                              'DevOps', 'Desarrollador']\n",
    "}\n",
    "\n",
    "def get_category(title):\n",
    "    title_lower = title.lower()\n",
    "    for category, keywords in categories.items():\n",
    "        for keyword in keywords:\n",
    "            if keyword.lower() in title_lower:\n",
    "                return category\n",
    "    return 'Other'\n"
   ]
  },
  {
   "cell_type": "code",
   "execution_count": 11,
   "metadata": {},
   "outputs": [
    {
     "name": "stdout",
     "output_type": "stream",
     "text": [
      "['AI/ML' 'Data Science' 'Software Engineering' 'Data Analysis' 'Other'\n",
      " 'Data Engineering']\n"
     ]
    }
   ],
   "source": [
    "# Apply the function to the 'Job_Title' column\n",
    "df_jobs['Category'] = df_jobs['Title'].apply(get_category)\n",
    "x = df_jobs['Category'].unique()\n",
    "print(x)"
   ]
  },
  {
   "cell_type": "code",
   "execution_count": 15,
   "metadata": {},
   "outputs": [
    {
     "name": "stdout",
     "output_type": "stream",
     "text": [
      "['Data Science' 'Data Analysis']\n"
     ]
    }
   ],
   "source": [
    "categories_to_drop = ['Other', 'Software Engineering','Data Engineering', 'AI/ML']\n",
    "df_jobs = df_jobs[~df_jobs['Category'].isin(categories_to_drop)].reset_index(drop=True)\n",
    "x = df_jobs['Category'].unique()\n",
    "print(x)"
   ]
  },
  {
   "cell_type": "code",
   "execution_count": 16,
   "metadata": {},
   "outputs": [],
   "source": [
    "file_name = file_name.replace(\".csv\",\"_clean.csv\")\n",
    "\n",
    "# Export DataFrame to CSV\n",
    "df_jobs.to_csv(file_name, index=False)"
   ]
  },
  {
   "cell_type": "code",
   "execution_count": 14,
   "metadata": {},
   "outputs": [],
   "source": [
    "# Get info from job: https://www.linkedin.com/jobs-guest/jobs/api/jobPosting/3994953438"
   ]
  }
 ],
 "metadata": {
  "kernelspec": {
   "display_name": "Python 3",
   "language": "python",
   "name": "python3"
  },
  "language_info": {
   "codemirror_mode": {
    "name": "ipython",
    "version": 3
   },
   "file_extension": ".py",
   "mimetype": "text/x-python",
   "name": "python",
   "nbconvert_exporter": "python",
   "pygments_lexer": "ipython3",
   "version": "3.12.2"
  }
 },
 "nbformat": 4,
 "nbformat_minor": 2
}
