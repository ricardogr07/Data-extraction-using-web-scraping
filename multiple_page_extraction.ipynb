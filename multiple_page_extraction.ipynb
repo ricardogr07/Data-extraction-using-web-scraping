{
 "cells": [
  {
   "cell_type": "code",
   "execution_count": null,
   "metadata": {},
   "outputs": [],
   "source": [
    "# Install necessary libraries if they are not present\n",
    "!pip install requests\n",
    "!pip install beautifulsoup4\n",
    "!pip install pyarrow\n",
    "!pip install pandas"
   ]
  },
  {
   "cell_type": "code",
   "execution_count": null,
   "metadata": {},
   "outputs": [],
   "source": [
    "# Import relevant packages\n",
    "import requests\n",
    "from bs4 import BeautifulSoup\n",
    "import pandas as pd\n",
    "import datetime\n",
    "import random\n",
    "import math"
   ]
  },
  {
   "cell_type": "code",
   "execution_count": null,
   "metadata": {},
   "outputs": [],
   "source": [
    "time_posted_dict = {\n",
    "    'ALL': '',\n",
    "    'MONTH': 'r2592000',\n",
    "    'WEEK': 'r604800',\n",
    "    'DAY': 'r86400'\n",
    "}\n",
    "remote_dict = {\n",
    "    'ALL': '',\n",
    "    'ON-SITE': '1',\n",
    "    'REMOTE': '2',\n",
    "    'HYBRID': '3'\n",
    "}"
   ]
  },
  {
   "cell_type": "code",
   "execution_count": null,
   "metadata": {},
   "outputs": [],
   "source": [
    "def get_random_user_agent():\n",
    "\n",
    "    headers = [\n",
    "        {'User-Agent': 'Mozilla/5.0'},\n",
    "        {'User-Agent': 'Mozilla/5.0 (Macintosh; Intel Mac OS X 10_14_6) AppleWebKit/537.36 (KHTML, like Gecko) Chrome/99.0.4844.84 Safari/537.36'},\n",
    "        {'User-Agent': 'Mozilla/5.0 (Linux; Android 6.0; Nexus 5 Build/MRA58N) AppleWebKit/537.36 (KHTML, like Gecko) Chrome/104.0.0.0 Mobile Safari/537.36'},\n",
    "        {'User-Agent': 'Mozilla/5.0 (Linux; Android 6.0; Nexus 5 Build/MRA58N) AppleWebKit/537.36 (KHTML, like Gecko) Chrome/104.0.0.0 Mobile Safari/537.36'},\n",
    "        {'User-Agent': 'Mozilla/5.0 (Macintosh; Intel Mac OS X 10_14_6) AppleWebKit/537.36 (KHTML, like Gecko) Chrome/99.0.4844.84 Safari/537.36'}\n",
    "    ]\n",
    "\n",
    "    selected_header = random.choice(headers)\n",
    "    return selected_header"
   ]
  },
  {
   "cell_type": "code",
   "execution_count": null,
   "metadata": {},
   "outputs": [],
   "source": [
    "def generate_main_linkedin_url(position, location, distance=10, time_posted='ALL', remote='ALL'):\n",
    "   \n",
    "    # Base URL for LinkedIn job search\n",
    "    base_url = 'https://www.linkedin.com/jobs/search/'\n",
    "    \n",
    "    # Replace spaces in position with URL encoding\n",
    "    url_friendly_position = position.replace(\" \", \"%20\")\n",
    "    \n",
    "    # Construct the query parameters\n",
    "    query_params = f'?keywords={url_friendly_position}&location={location}'\n",
    "    \n",
    "    if distance:\n",
    "        query_params += f'&distance={distance}'\n",
    "    if time_posted:\n",
    "        time_posted_value = time_posted_dict.get(time_posted, '')\n",
    "        query_params += f'&f_TPR={time_posted_value}'\n",
    "    if remote:\n",
    "        remote_value = remote_dict.get(remote, '')\n",
    "        query_params += f'&f_WT={remote_value}'\n",
    "    \n",
    "    # Combine base URL with query parameters\n",
    "    url_search = base_url + query_params\n",
    "    \n",
    "    return url_search"
   ]
  },
  {
   "cell_type": "code",
   "execution_count": null,
   "metadata": {},
   "outputs": [],
   "source": [
    "position = 'Data Scientist'\n",
    "location = 'Monterrey'\n",
    "time_posted = 'ALL'\n",
    "remote = 'ALL'\n",
    "\n",
    "header = get_random_user_agent()\n",
    "\n",
    "main_url = generate_main_linkedin_url(position, location,time_posted=time_posted, remote=remote)"
   ]
  },
  {
   "cell_type": "code",
   "execution_count": null,
   "metadata": {},
   "outputs": [],
   "source": [
    "def fetch_jobs_until_success(url):\n",
    "    got_200 = False\n",
    "    while not got_200:\n",
    "        response = requests.get(url, headers=get_random_user_agent())\n",
    "        got_200 = response.status_code == 200\n",
    "    return response"
   ]
  },
  {
   "cell_type": "code",
   "execution_count": null,
   "metadata": {},
   "outputs": [],
   "source": [
    "response = fetch_jobs_until_success(main_url)\n",
    "soup = BeautifulSoup(response.text, 'html.parser')\n",
    "all_jobs = int(soup.find('span', {'class': 'results-context-header__job-count'}).text)\n",
    "print(f'There are a total of {all_jobs} jobs that will be scraped based on the given conditions.')"
   ]
  },
  {
   "cell_type": "code",
   "execution_count": null,
   "metadata": {},
   "outputs": [],
   "source": [
    "def get_url_next_10_positions(position, location,start_position, distance=10, time_posted='ALL', remote='ALL'):\n",
    "   \n",
    "    # Base URL for LinkedIn job search\n",
    "    base_url = 'https://www.linkedin.com/jobs-guest/jobs/api/seeMoreJobPostings/search'\n",
    "    \n",
    "    # Replace spaces in position with URL encoding\n",
    "    url_friendly_position = position.replace(\" \", \"%20\")\n",
    "    \n",
    "    # Construct the query parameters\n",
    "    query_params = f'?keywords={url_friendly_position}&location={location}'\n",
    "    \n",
    "    if distance:\n",
    "        query_params += f'&distance={distance}'\n",
    "    if time_posted:\n",
    "        time_posted_value = time_posted_dict.get(time_posted, '')\n",
    "        query_params += f'&f_TPR={time_posted_value}'\n",
    "    if remote:\n",
    "        remote_value = remote_dict.get(remote, '')\n",
    "        query_params += f'&f_WT={remote_value}'\n",
    "    query_params += f'&position=1&pageNum=0&start={start_position}'\n",
    "    \n",
    "    # Combine base URL with query parameters\n",
    "    url_search = base_url + query_params\n",
    "    \n",
    "    return url_search"
   ]
  },
  {
   "cell_type": "code",
   "execution_count": null,
   "metadata": {},
   "outputs": [],
   "source": [
    "jobs = []\n",
    "total_pages = math.ceil(all_jobs/10)\n",
    "for i in range(0,all_jobs, 10):\n",
    "    \n",
    "    current_page = i/10+1\n",
    "\n",
    "    target_url = get_url_next_10_positions(position, location,i,time_posted=time_posted,remote=remote)\n",
    "\n",
    "    response = fetch_jobs_until_success(target_url)\n",
    "    \n",
    "    print(f\"Parsing data for page: {int(current_page)}/{total_pages}\")\n",
    "    \n",
    "    soup = BeautifulSoup(response.content, 'html.parser')\n",
    "    alljobs = soup.find_all('li')\n",
    "\n",
    "    for job in alljobs:\n",
    "        try:\n",
    "            info = job.find('div', class_=\"base-search-card__info\")\n",
    "            title = info.find('h3', class_=\"base-search-card__title\").text.strip() if info else 'N/A'\n",
    "            company = info.find('h4', class_=\"base-search-card__subtitle\").text.strip() if info else 'N/A'\n",
    "\n",
    "            metadata = job.find('div', class_=\"base-search-card__metadata\")\n",
    "            location_element = metadata.find('span', class_=\"job-search-card__location\") if metadata else None\n",
    "            location_job = location_element.text.strip() if location_element else 'N/A'\n",
    "\n",
    "            joburl_element = job.find('a', class_=\"base-card__full-link\")\n",
    "            joburl = joburl_element['href'] if joburl_element else 'N/A'\n",
    "\n",
    "            job_info = {\n",
    "                'Location': location_job,\n",
    "                'Title': title,\n",
    "                'Company': company,\n",
    "                'Url': joburl\n",
    "            }\n",
    "\n",
    "            jobs.append(job_info)\n",
    "\n",
    "        except Exception as e:\n",
    "            print(f\"Error processing job: {e}\")\n",
    "            continue"
   ]
  },
  {
   "cell_type": "code",
   "execution_count": null,
   "metadata": {},
   "outputs": [],
   "source": [
    "df_jobs = pd.DataFrame(jobs, columns=['Location', 'Title', 'Company', 'Url'])\n",
    "df_jobs.replace(\"N/A\", pd.NA, inplace=True)\n",
    "df_jobs = df_jobs.dropna()"
   ]
  },
  {
   "cell_type": "code",
   "execution_count": null,
   "metadata": {},
   "outputs": [],
   "source": [
    "# Export DataFrame to CSV\n",
    "date = datetime.datetime.now().strftime('%Y-%m-%d')\n",
    "position = position.replace(\" \", \"_\")\n",
    "# Start with the base file name\n",
    "file_name = f'LinkedIn_Jobs_{position}_{location}'\n",
    "\n",
    "if time_posted != 'ALL':\n",
    "    file_name += f'_LAST_{time_posted}'\n",
    "\n",
    "# Append remote if it's not 'ALL'\n",
    "if remote != 'ALL':\n",
    "    file_name += f'_{remote}'\n",
    "\n",
    "# Append the date to the file name\n",
    "file_name += f'_{date}.csv'\n",
    "\n",
    "# Export DataFrame to CSV\n",
    "df_jobs.to_csv(file_name, index=False)"
   ]
  }
 ],
 "metadata": {
  "kernelspec": {
   "display_name": "Python 3",
   "language": "python",
   "name": "python3"
  },
  "language_info": {
   "codemirror_mode": {
    "name": "ipython",
    "version": 3
   },
   "file_extension": ".py",
   "mimetype": "text/x-python",
   "name": "python",
   "nbconvert_exporter": "python",
   "pygments_lexer": "ipython3",
   "version": "3.12.2"
  }
 },
 "nbformat": 4,
 "nbformat_minor": 2
}
